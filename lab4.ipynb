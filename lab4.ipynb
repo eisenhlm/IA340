{
 "cells": [
  {
   "cell_type": "markdown",
   "metadata": {},
   "source": [
    "# Lab 4"
   ]
  },
  {
   "cell_type": "markdown",
   "metadata": {},
   "source": [
    "## Import libs and connect to database"
   ]
  },
  {
   "cell_type": "code",
   "execution_count": 3,
   "metadata": {},
   "outputs": [],
   "source": [
    "import pandas\n",
    "import configparser\n",
    "import psycopg2"
   ]
  },
  {
   "cell_type": "code",
   "execution_count": 4,
   "metadata": {},
   "outputs": [],
   "source": [
    "config=configparser.ConfigParser()\n",
    "config.read('config.ini')\n",
    "\n",
    "host=config['myaws']['host']\n",
    "db=config['myaws']['db']\n",
    "user=config['myaws']['user']\n",
    "pwd=config['myaws']['pwd'] "
   ]
  },
  {
   "cell_type": "code",
   "execution_count": 5,
   "metadata": {},
   "outputs": [],
   "source": [
    "\n",
    "conn= psycopg2.connect(\n",
    "                        host=host,\n",
    "                        user=user,\n",
    "                        password=pwd,\n",
    "                        dbname=db\n",
    "                        )"
   ]
  },
  {
   "cell_type": "code",
   "execution_count": 6,
   "metadata": {},
   "outputs": [],
   "source": [
    "cur=conn.cursor()"
   ]
  },
  {
   "cell_type": "markdown",
   "metadata": {},
   "source": [
    "## q1"
   ]
  },
  {
   "cell_type": "code",
   "execution_count": 7,
   "metadata": {},
   "outputs": [],
   "source": [
    "sql_q1= \"\"\"\n",
    "        select * from gp7.student\n",
    "        \"\"\""
   ]
  },
  {
   "cell_type": "code",
   "execution_count": 13,
   "metadata": {},
   "outputs": [
    {
     "data": {
      "text/html": [
       "<div>\n",
       "<style scoped>\n",
       "    .dataframe tbody tr th:only-of-type {\n",
       "        vertical-align: middle;\n",
       "    }\n",
       "\n",
       "    .dataframe tbody tr th {\n",
       "        vertical-align: top;\n",
       "    }\n",
       "\n",
       "    .dataframe thead th {\n",
       "        text-align: right;\n",
       "    }\n",
       "</style>\n",
       "<table border=\"1\" class=\"dataframe\">\n",
       "  <thead>\n",
       "    <tr style=\"text-align: right;\">\n",
       "      <th></th>\n",
       "      <th>s_email</th>\n",
       "      <th>s_name</th>\n",
       "      <th>major</th>\n",
       "    </tr>\n",
       "  </thead>\n",
       "  <tbody>\n",
       "    <tr>\n",
       "      <th>0</th>\n",
       "      <td>ab@jmu.edu</td>\n",
       "      <td>Abby Bee</td>\n",
       "      <td>IA</td>\n",
       "    </tr>\n",
       "    <tr>\n",
       "      <th>1</th>\n",
       "      <td>cd@jmu.edu</td>\n",
       "      <td>Cindy Dale</td>\n",
       "      <td>ISAT</td>\n",
       "    </tr>\n",
       "    <tr>\n",
       "      <th>2</th>\n",
       "      <td>ef@jmu.edu</td>\n",
       "      <td>Emily Free</td>\n",
       "      <td>Psychology</td>\n",
       "    </tr>\n",
       "    <tr>\n",
       "      <th>3</th>\n",
       "      <td>gh@jmu.edu</td>\n",
       "      <td>Gerald Herold</td>\n",
       "      <td>IA</td>\n",
       "    </tr>\n",
       "    <tr>\n",
       "      <th>4</th>\n",
       "      <td>ij@jmu.edu</td>\n",
       "      <td>Isaac Jams</td>\n",
       "      <td>Political Science</td>\n",
       "    </tr>\n",
       "    <tr>\n",
       "      <th>5</th>\n",
       "      <td>kl@jmu.edu</td>\n",
       "      <td>Kyle Laurens</td>\n",
       "      <td>Geographic Science</td>\n",
       "    </tr>\n",
       "    <tr>\n",
       "      <th>6</th>\n",
       "      <td>mn@jmu.edu</td>\n",
       "      <td>Mary Neece</td>\n",
       "      <td>IA</td>\n",
       "    </tr>\n",
       "    <tr>\n",
       "      <th>7</th>\n",
       "      <td>op@jmu.edu</td>\n",
       "      <td>Olivia Price</td>\n",
       "      <td>English</td>\n",
       "    </tr>\n",
       "    <tr>\n",
       "      <th>8</th>\n",
       "      <td>qr@jmu.edu</td>\n",
       "      <td>Quinten Reece</td>\n",
       "      <td>IA</td>\n",
       "    </tr>\n",
       "    <tr>\n",
       "      <th>9</th>\n",
       "      <td>st@jmu.edu</td>\n",
       "      <td>Sarah Thomas</td>\n",
       "      <td>ISAT</td>\n",
       "    </tr>\n",
       "    <tr>\n",
       "      <th>10</th>\n",
       "      <td>uv@jmu.edu</td>\n",
       "      <td>Ursula Venice</td>\n",
       "      <td>ISAT</td>\n",
       "    </tr>\n",
       "    <tr>\n",
       "      <th>11</th>\n",
       "      <td>s5@jmu.edu</td>\n",
       "      <td>s5</td>\n",
       "      <td>GS</td>\n",
       "    </tr>\n",
       "  </tbody>\n",
       "</table>\n",
       "</div>"
      ],
      "text/plain": [
       "       s_email          s_name               major\n",
       "0   ab@jmu.edu        Abby Bee                  IA\n",
       "1   cd@jmu.edu      Cindy Dale                ISAT\n",
       "2   ef@jmu.edu      Emily Free         Psychology \n",
       "3   gh@jmu.edu   Gerald Herold                  IA\n",
       "4   ij@jmu.edu      Isaac Jams   Political Science\n",
       "5   kl@jmu.edu    Kyle Laurens  Geographic Science\n",
       "6   mn@jmu.edu      Mary Neece                  IA\n",
       "7   op@jmu.edu    Olivia Price             English\n",
       "8   qr@jmu.edu   Quinten Reece                  IA\n",
       "9   st@jmu.edu    Sarah Thomas                ISAT\n",
       "10  uv@jmu.edu  Ursula Venice                 ISAT\n",
       "11  s5@jmu.edu              s5                  GS"
      ]
     },
     "execution_count": 13,
     "metadata": {},
     "output_type": "execute_result"
    }
   ],
   "source": [
    "df=pandas.read_sql_query(sql_q1, conn)\n",
    "df[:] "
   ]
  },
  {
   "cell_type": "markdown",
   "metadata": {},
   "source": [
    "## q2"
   ]
  },
  {
   "cell_type": "code",
   "execution_count": 9,
   "metadata": {},
   "outputs": [],
   "source": [
    "sql_q2=\"\"\"\n",
    "        select gp7.professor.p_name,\n",
    "        gp7.course.c_name\n",
    "        from gp7.professor\n",
    "        inner join gp7.course\n",
    "        on gp7.professor.p_email=gp7.course.p_email\n",
    "\n",
    "        \"\"\""
   ]
  },
  {
   "cell_type": "code",
   "execution_count": 11,
   "metadata": {},
   "outputs": [
    {
     "data": {
      "text/html": [
       "<div>\n",
       "<style scoped>\n",
       "    .dataframe tbody tr th:only-of-type {\n",
       "        vertical-align: middle;\n",
       "    }\n",
       "\n",
       "    .dataframe tbody tr th {\n",
       "        vertical-align: top;\n",
       "    }\n",
       "\n",
       "    .dataframe thead th {\n",
       "        text-align: right;\n",
       "    }\n",
       "</style>\n",
       "<table border=\"1\" class=\"dataframe\">\n",
       "  <thead>\n",
       "    <tr style=\"text-align: right;\">\n",
       "      <th></th>\n",
       "      <th>p_name</th>\n",
       "      <th>c_name</th>\n",
       "    </tr>\n",
       "  </thead>\n",
       "  <tbody>\n",
       "    <tr>\n",
       "      <th>0</th>\n",
       "      <td>Noel Hendrickson</td>\n",
       "      <td>Reasoning Methods</td>\n",
       "    </tr>\n",
       "    <tr>\n",
       "      <th>1</th>\n",
       "      <td>Stephen Marrin</td>\n",
       "      <td>Capstone Project</td>\n",
       "    </tr>\n",
       "    <tr>\n",
       "      <th>2</th>\n",
       "      <td>Kathleen Moore</td>\n",
       "      <td>Technology Apps</td>\n",
       "    </tr>\n",
       "    <tr>\n",
       "      <th>3</th>\n",
       "      <td>Ronald Raab</td>\n",
       "      <td>WMD Awareness</td>\n",
       "    </tr>\n",
       "    <tr>\n",
       "      <th>4</th>\n",
       "      <td>Anthony Teate</td>\n",
       "      <td>Data Mining</td>\n",
       "    </tr>\n",
       "    <tr>\n",
       "      <th>5</th>\n",
       "      <td>Timothy Walton</td>\n",
       "      <td>Hypothesis Testing</td>\n",
       "    </tr>\n",
       "    <tr>\n",
       "      <th>6</th>\n",
       "      <td>Xuebin Wei</td>\n",
       "      <td>Machine Learning</td>\n",
       "    </tr>\n",
       "    <tr>\n",
       "      <th>7</th>\n",
       "      <td>Orlandrew Danzell</td>\n",
       "      <td>Nat. Security</td>\n",
       "    </tr>\n",
       "    <tr>\n",
       "      <th>8</th>\n",
       "      <td>Barry Zulauf</td>\n",
       "      <td>Telecommunication</td>\n",
       "    </tr>\n",
       "    <tr>\n",
       "      <th>9</th>\n",
       "      <td>new_p</td>\n",
       "      <td>new_c_name</td>\n",
       "    </tr>\n",
       "    <tr>\n",
       "      <th>10</th>\n",
       "      <td>new_p</td>\n",
       "      <td>Intro to IA</td>\n",
       "    </tr>\n",
       "  </tbody>\n",
       "</table>\n",
       "</div>"
      ],
      "text/plain": [
       "               p_name              c_name\n",
       "0    Noel Hendrickson   Reasoning Methods\n",
       "1      Stephen Marrin    Capstone Project\n",
       "2      Kathleen Moore     Technology Apps\n",
       "3         Ronald Raab       WMD Awareness\n",
       "4       Anthony Teate         Data Mining\n",
       "5      Timothy Walton  Hypothesis Testing\n",
       "6          Xuebin Wei    Machine Learning\n",
       "7   Orlandrew Danzell       Nat. Security\n",
       "8        Barry Zulauf   Telecommunication\n",
       "9               new_p          new_c_name\n",
       "10              new_p         Intro to IA"
      ]
     },
     "execution_count": 11,
     "metadata": {},
     "output_type": "execute_result"
    }
   ],
   "source": [
    "df=pandas.read_sql_query(sql_q2, conn)\n",
    "df[:] "
   ]
  },
  {
   "cell_type": "markdown",
   "metadata": {},
   "source": [
    "# q3"
   ]
  },
  {
   "cell_type": "code",
   "execution_count": 12,
   "metadata": {},
   "outputs": [],
   "source": [
    "sql_q3= \"\"\"\n",
    "        select c_number,\n",
    "        count(c_number) as enrolled\n",
    "        from gp7.enroll_list\n",
    "        group by c_number\n",
    "        order by enrolled desc\n",
    "        \"\"\""
   ]
  },
  {
   "cell_type": "code",
   "execution_count": 15,
   "metadata": {},
   "outputs": [
    {
     "data": {
      "text/plain": [
       "<matplotlib.axes._subplots.AxesSubplot at 0x7fc950d33ef0>"
      ]
     },
     "execution_count": 15,
     "metadata": {},
     "output_type": "execute_result"
    },
    {
     "data": {
      "image/png": "[encoded data removed]",
      "text/plain": [
       "<Figure size 432x288 with 1 Axes>"
      ]
     },
     "metadata": {
      "needs_background": "light"
     },
     "output_type": "display_data"
    }
   ],
   "source": [
    "df=pandas.read_sql_query(sql_q3, conn)\n",
    "df.plot.bar(y='enrolled', x='c_number') "
   ]
  },
  {
   "cell_type": "markdown",
   "metadata": {},
   "source": [
    "## q4"
   ]
  },
  {
   "cell_type": "code",
   "execution_count": 21,
   "metadata": {},
   "outputs": [],
   "source": [
    "sql_q4=\"\"\"\n",
    "        select gp7.professor.p_name,\n",
    "        count (gp7.course.c_name) as teaching_number\n",
    "        from gp7.professor\n",
    "        inner join gp7.course\n",
    "        on gp7.professor.p_email=gp7.course.p_email\n",
    "        group by professor.p_name\n",
    "        order by teaching_number desc\n",
    "        \"\"\""
   ]
  },
  {
   "cell_type": "code",
   "execution_count": 23,
   "metadata": {},
   "outputs": [
    {
     "data": {
      "text/plain": [
       "<matplotlib.axes._subplots.AxesSubplot at 0x7fc950441400>"
      ]
     },
     "execution_count": 23,
     "metadata": {},
     "output_type": "execute_result"
    },
    {
     "data": {
      "image/png": "[encoded data removed]",
      "text/plain": [
       "<Figure size 432x288 with 1 Axes>"
      ]
     },
     "metadata": {
      "needs_background": "light"
     },
     "output_type": "display_data"
    }
   ],
   "source": [
    "df=pandas.read_sql_query(sql_q4, conn)\n",
    "df.plot.bar(y='teaching_number', x='p_name') "
   ]
  },
  {
   "cell_type": "markdown",
   "metadata": {},
   "source": [
    "## q5"
   ]
  },
  {
   "cell_type": "code",
   "execution_count": 34,
   "metadata": {},
   "outputs": [],
   "source": [
    "sql_q5_professor= \"\"\"\n",
    "                insert into gp7.professor(p_email, p_name,office)\n",
    "                values('{}','{}', '{}') \n",
    "                \"\"\" .format('new_p2@jmu.edu', 'new_p2', 'new_off') "
   ]
  },
  {
   "cell_type": "code",
   "execution_count": 35,
   "metadata": {},
   "outputs": [],
   "source": [
    "cur.execute(sql_q5_professor)"
   ]
  },
  {
   "cell_type": "code",
   "execution_count": 36,
   "metadata": {},
   "outputs": [],
   "source": [
    "conn.commit()"
   ]
  },
  {
   "cell_type": "code",
   "execution_count": 37,
   "metadata": {},
   "outputs": [
    {
     "data": {
      "text/html": [
       "<div>\n",
       "<style scoped>\n",
       "    .dataframe tbody tr th:only-of-type {\n",
       "        vertical-align: middle;\n",
       "    }\n",
       "\n",
       "    .dataframe tbody tr th {\n",
       "        vertical-align: top;\n",
       "    }\n",
       "\n",
       "    .dataframe thead th {\n",
       "        text-align: right;\n",
       "    }\n",
       "</style>\n",
       "<table border=\"1\" class=\"dataframe\">\n",
       "  <thead>\n",
       "    <tr style=\"text-align: right;\">\n",
       "      <th></th>\n",
       "      <th>p_email</th>\n",
       "      <th>p_name</th>\n",
       "      <th>office</th>\n",
       "    </tr>\n",
       "  </thead>\n",
       "  <tbody>\n",
       "    <tr>\n",
       "      <th>0</th>\n",
       "      <td>hendrix@jmu.edu</td>\n",
       "      <td>Noel Hendrickson</td>\n",
       "      <td>ISAT317</td>\n",
       "    </tr>\n",
       "    <tr>\n",
       "      <th>1</th>\n",
       "      <td>marrinsp@jmu.edu</td>\n",
       "      <td>Stephen Marrin</td>\n",
       "      <td>EnGeo2104</td>\n",
       "    </tr>\n",
       "    <tr>\n",
       "      <th>2</th>\n",
       "      <td>moore8ka@jmu.edu</td>\n",
       "      <td>Kathleen Moore</td>\n",
       "      <td>ISAT116</td>\n",
       "    </tr>\n",
       "    <tr>\n",
       "      <th>3</th>\n",
       "      <td>raabrw@jmu.edu</td>\n",
       "      <td>Ronald Raab</td>\n",
       "      <td>ISAT156</td>\n",
       "    </tr>\n",
       "    <tr>\n",
       "      <th>4</th>\n",
       "      <td>teateaa@jmu.edu</td>\n",
       "      <td>Anthony Teate</td>\n",
       "      <td>ISAT342</td>\n",
       "    </tr>\n",
       "    <tr>\n",
       "      <th>5</th>\n",
       "      <td>waltontr@jmu.edu</td>\n",
       "      <td>Timothy Walton</td>\n",
       "      <td>ISAT326</td>\n",
       "    </tr>\n",
       "    <tr>\n",
       "      <th>6</th>\n",
       "      <td>weixx@jmu.edu</td>\n",
       "      <td>Xuebin Wei</td>\n",
       "      <td>ISAT 326</td>\n",
       "    </tr>\n",
       "    <tr>\n",
       "      <th>7</th>\n",
       "      <td>danzelox@jmu.edu</td>\n",
       "      <td>Orlandrew Danzell</td>\n",
       "      <td>ISAT1</td>\n",
       "    </tr>\n",
       "    <tr>\n",
       "      <th>8</th>\n",
       "      <td>zulaufba@jmu.edu</td>\n",
       "      <td>Barry Zulauf</td>\n",
       "      <td>--</td>\n",
       "    </tr>\n",
       "    <tr>\n",
       "      <th>9</th>\n",
       "      <td>new_p@jmu.edu</td>\n",
       "      <td>new_p</td>\n",
       "      <td>new_office</td>\n",
       "    </tr>\n",
       "    <tr>\n",
       "      <th>10</th>\n",
       "      <td>new_p2@jmu.edu</td>\n",
       "      <td>new_p2</td>\n",
       "      <td>new_off</td>\n",
       "    </tr>\n",
       "  </tbody>\n",
       "</table>\n",
       "</div>"
      ],
      "text/plain": [
       "             p_email             p_name      office\n",
       "0    hendrix@jmu.edu   Noel Hendrickson     ISAT317\n",
       "1   marrinsp@jmu.edu     Stephen Marrin   EnGeo2104\n",
       "2   moore8ka@jmu.edu     Kathleen Moore     ISAT116\n",
       "3     raabrw@jmu.edu        Ronald Raab     ISAT156\n",
       "4    teateaa@jmu.edu      Anthony Teate     ISAT342\n",
       "5   waltontr@jmu.edu     Timothy Walton     ISAT326\n",
       "6      weixx@jmu.edu         Xuebin Wei    ISAT 326\n",
       "7   danzelox@jmu.edu  Orlandrew Danzell       ISAT1\n",
       "8   zulaufba@jmu.edu       Barry Zulauf          --\n",
       "9      new_p@jmu.edu              new_p  new_office\n",
       "10    new_p2@jmu.edu             new_p2     new_off"
      ]
     },
     "execution_count": 37,
     "metadata": {},
     "output_type": "execute_result"
    }
   ],
   "source": [
    "df=pandas.read_sql_query('select * from gp7.professor', conn)\n",
    "df[:] "
   ]
  },
  {
   "cell_type": "code",
   "execution_count": 38,
   "metadata": {},
   "outputs": [],
   "source": [
    "sql_q5_course= \"\"\"\n",
    "                insert into gp7.course(c_number, c_name, room, p_email)\n",
    "                values('{}','{}', '{}', '{}') \n",
    "                \"\"\" .format('IA_new2', 'new_c_name', 'online', 'new_p2@jmu.edu') "
   ]
  },
  {
   "cell_type": "code",
   "execution_count": 39,
   "metadata": {},
   "outputs": [],
   "source": [
    "cur.execute(sql_q5_course)"
   ]
  },
  {
   "cell_type": "code",
   "execution_count": 40,
   "metadata": {},
   "outputs": [],
   "source": [
    "conn.commit()"
   ]
  },
  {
   "cell_type": "code",
   "execution_count": 41,
   "metadata": {},
   "outputs": [
    {
     "data": {
      "text/html": [
       "<div>\n",
       "<style scoped>\n",
       "    .dataframe tbody tr th:only-of-type {\n",
       "        vertical-align: middle;\n",
       "    }\n",
       "\n",
       "    .dataframe tbody tr th {\n",
       "        vertical-align: top;\n",
       "    }\n",
       "\n",
       "    .dataframe thead th {\n",
       "        text-align: right;\n",
       "    }\n",
       "</style>\n",
       "<table border=\"1\" class=\"dataframe\">\n",
       "  <thead>\n",
       "    <tr style=\"text-align: right;\">\n",
       "      <th></th>\n",
       "      <th>c_number</th>\n",
       "      <th>c_name</th>\n",
       "      <th>room</th>\n",
       "      <th>p_email</th>\n",
       "    </tr>\n",
       "  </thead>\n",
       "  <tbody>\n",
       "    <tr>\n",
       "      <th>0</th>\n",
       "      <td>IA313</td>\n",
       "      <td>Reasoning Methods</td>\n",
       "      <td>ISAT0148</td>\n",
       "      <td>hendrix@jmu.edu</td>\n",
       "    </tr>\n",
       "    <tr>\n",
       "      <th>1</th>\n",
       "      <td>IA440</td>\n",
       "      <td>Capstone Project</td>\n",
       "      <td>EnGeo1301</td>\n",
       "      <td>marrinsp@jmu.edu</td>\n",
       "    </tr>\n",
       "    <tr>\n",
       "      <th>2</th>\n",
       "      <td>IA240</td>\n",
       "      <td>Technology Apps</td>\n",
       "      <td>online</td>\n",
       "      <td>moore8ka@jmu.edu</td>\n",
       "    </tr>\n",
       "    <tr>\n",
       "      <th>3</th>\n",
       "      <td>IA459</td>\n",
       "      <td>WMD Awareness</td>\n",
       "      <td>EnGeo1301</td>\n",
       "      <td>raabrw@jmu.edu</td>\n",
       "    </tr>\n",
       "    <tr>\n",
       "      <th>4</th>\n",
       "      <td>IA340</td>\n",
       "      <td>Data Mining</td>\n",
       "      <td>online</td>\n",
       "      <td>teateaa@jmu.edu</td>\n",
       "    </tr>\n",
       "    <tr>\n",
       "      <th>5</th>\n",
       "      <td>IA261</td>\n",
       "      <td>Hypothesis Testing</td>\n",
       "      <td>ISAT0148</td>\n",
       "      <td>waltontr@jmu.edu</td>\n",
       "    </tr>\n",
       "    <tr>\n",
       "      <th>6</th>\n",
       "      <td>IA480</td>\n",
       "      <td>Machine Learning</td>\n",
       "      <td>online</td>\n",
       "      <td>weixx@jmu.edu</td>\n",
       "    </tr>\n",
       "    <tr>\n",
       "      <th>7</th>\n",
       "      <td>IA200</td>\n",
       "      <td>Nat. Security</td>\n",
       "      <td>Festival7</td>\n",
       "      <td>danzelox@jmu.edu</td>\n",
       "    </tr>\n",
       "    <tr>\n",
       "      <th>8</th>\n",
       "      <td>ISAT215</td>\n",
       "      <td>Telecommunication</td>\n",
       "      <td>EnGeo2020</td>\n",
       "      <td>zulaufba@jmu.edu</td>\n",
       "    </tr>\n",
       "    <tr>\n",
       "      <th>9</th>\n",
       "      <td>IA_new</td>\n",
       "      <td>new_c_name</td>\n",
       "      <td>online</td>\n",
       "      <td>new_p@jmu.edu</td>\n",
       "    </tr>\n",
       "    <tr>\n",
       "      <th>10</th>\n",
       "      <td>IA150</td>\n",
       "      <td>Intro to IA</td>\n",
       "      <td>EnGeo2301</td>\n",
       "      <td>new_p@jmu.edu</td>\n",
       "    </tr>\n",
       "    <tr>\n",
       "      <th>11</th>\n",
       "      <td>IA_new2</td>\n",
       "      <td>new_c_name</td>\n",
       "      <td>online</td>\n",
       "      <td>new_p2@jmu.edu</td>\n",
       "    </tr>\n",
       "  </tbody>\n",
       "</table>\n",
       "</div>"
      ],
      "text/plain": [
       "   c_number              c_name       room           p_email\n",
       "0     IA313   Reasoning Methods   ISAT0148   hendrix@jmu.edu\n",
       "1     IA440    Capstone Project  EnGeo1301  marrinsp@jmu.edu\n",
       "2     IA240     Technology Apps     online  moore8ka@jmu.edu\n",
       "3     IA459       WMD Awareness  EnGeo1301    raabrw@jmu.edu\n",
       "4     IA340         Data Mining     online   teateaa@jmu.edu\n",
       "5     IA261  Hypothesis Testing   ISAT0148  waltontr@jmu.edu\n",
       "6     IA480    Machine Learning     online     weixx@jmu.edu\n",
       "7     IA200       Nat. Security  Festival7  danzelox@jmu.edu\n",
       "8   ISAT215   Telecommunication  EnGeo2020  zulaufba@jmu.edu\n",
       "9    IA_new          new_c_name     online     new_p@jmu.edu\n",
       "10    IA150         Intro to IA  EnGeo2301     new_p@jmu.edu\n",
       "11  IA_new2          new_c_name     online    new_p2@jmu.edu"
      ]
     },
     "execution_count": 41,
     "metadata": {},
     "output_type": "execute_result"
    }
   ],
   "source": [
    "df=pandas.read_sql_query('select * from gp7.course', conn)\n",
    "df[:] "
   ]
  },
  {
   "cell_type": "markdown",
   "metadata": {},
   "source": [
    "## q6"
   ]
  },
  {
   "cell_type": "code",
   "execution_count": 42,
   "metadata": {},
   "outputs": [],
   "source": [
    "sql_q6_course= \"\"\"\n",
    "                update gp7.course\n",
    "                set p_email='{}'\n",
    "                where p_email='{}'\n",
    "                \"\"\" .format('new_p@jmu.edu','weixx@jmu.edu') "
   ]
  },
  {
   "cell_type": "code",
   "execution_count": 43,
   "metadata": {},
   "outputs": [],
   "source": [
    "cur.execute(sql_q6_course)"
   ]
  },
  {
   "cell_type": "code",
   "execution_count": 44,
   "metadata": {},
   "outputs": [],
   "source": [
    "conn.commit()"
   ]
  },
  {
   "cell_type": "code",
   "execution_count": 45,
   "metadata": {},
   "outputs": [
    {
     "data": {
      "text/html": [
       "<div>\n",
       "<style scoped>\n",
       "    .dataframe tbody tr th:only-of-type {\n",
       "        vertical-align: middle;\n",
       "    }\n",
       "\n",
       "    .dataframe tbody tr th {\n",
       "        vertical-align: top;\n",
       "    }\n",
       "\n",
       "    .dataframe thead th {\n",
       "        text-align: right;\n",
       "    }\n",
       "</style>\n",
       "<table border=\"1\" class=\"dataframe\">\n",
       "  <thead>\n",
       "    <tr style=\"text-align: right;\">\n",
       "      <th></th>\n",
       "      <th>c_number</th>\n",
       "      <th>c_name</th>\n",
       "      <th>room</th>\n",
       "      <th>p_email</th>\n",
       "    </tr>\n",
       "  </thead>\n",
       "  <tbody>\n",
       "    <tr>\n",
       "      <th>0</th>\n",
       "      <td>IA313</td>\n",
       "      <td>Reasoning Methods</td>\n",
       "      <td>ISAT0148</td>\n",
       "      <td>hendrix@jmu.edu</td>\n",
       "    </tr>\n",
       "    <tr>\n",
       "      <th>1</th>\n",
       "      <td>IA440</td>\n",
       "      <td>Capstone Project</td>\n",
       "      <td>EnGeo1301</td>\n",
       "      <td>marrinsp@jmu.edu</td>\n",
       "    </tr>\n",
       "    <tr>\n",
       "      <th>2</th>\n",
       "      <td>IA240</td>\n",
       "      <td>Technology Apps</td>\n",
       "      <td>online</td>\n",
       "      <td>moore8ka@jmu.edu</td>\n",
       "    </tr>\n",
       "    <tr>\n",
       "      <th>3</th>\n",
       "      <td>IA459</td>\n",
       "      <td>WMD Awareness</td>\n",
       "      <td>EnGeo1301</td>\n",
       "      <td>raabrw@jmu.edu</td>\n",
       "    </tr>\n",
       "    <tr>\n",
       "      <th>4</th>\n",
       "      <td>IA340</td>\n",
       "      <td>Data Mining</td>\n",
       "      <td>online</td>\n",
       "      <td>teateaa@jmu.edu</td>\n",
       "    </tr>\n",
       "    <tr>\n",
       "      <th>5</th>\n",
       "      <td>IA261</td>\n",
       "      <td>Hypothesis Testing</td>\n",
       "      <td>ISAT0148</td>\n",
       "      <td>waltontr@jmu.edu</td>\n",
       "    </tr>\n",
       "    <tr>\n",
       "      <th>6</th>\n",
       "      <td>IA200</td>\n",
       "      <td>Nat. Security</td>\n",
       "      <td>Festival7</td>\n",
       "      <td>danzelox@jmu.edu</td>\n",
       "    </tr>\n",
       "    <tr>\n",
       "      <th>7</th>\n",
       "      <td>ISAT215</td>\n",
       "      <td>Telecommunication</td>\n",
       "      <td>EnGeo2020</td>\n",
       "      <td>zulaufba@jmu.edu</td>\n",
       "    </tr>\n",
       "    <tr>\n",
       "      <th>8</th>\n",
       "      <td>IA_new</td>\n",
       "      <td>new_c_name</td>\n",
       "      <td>online</td>\n",
       "      <td>new_p@jmu.edu</td>\n",
       "    </tr>\n",
       "    <tr>\n",
       "      <th>9</th>\n",
       "      <td>IA150</td>\n",
       "      <td>Intro to IA</td>\n",
       "      <td>EnGeo2301</td>\n",
       "      <td>new_p@jmu.edu</td>\n",
       "    </tr>\n",
       "    <tr>\n",
       "      <th>10</th>\n",
       "      <td>IA_new2</td>\n",
       "      <td>new_c_name</td>\n",
       "      <td>online</td>\n",
       "      <td>new_p2@jmu.edu</td>\n",
       "    </tr>\n",
       "    <tr>\n",
       "      <th>11</th>\n",
       "      <td>IA480</td>\n",
       "      <td>Machine Learning</td>\n",
       "      <td>online</td>\n",
       "      <td>new_p@jmu.edu</td>\n",
       "    </tr>\n",
       "  </tbody>\n",
       "</table>\n",
       "</div>"
      ],
      "text/plain": [
       "   c_number              c_name       room           p_email\n",
       "0     IA313   Reasoning Methods   ISAT0148   hendrix@jmu.edu\n",
       "1     IA440    Capstone Project  EnGeo1301  marrinsp@jmu.edu\n",
       "2     IA240     Technology Apps     online  moore8ka@jmu.edu\n",
       "3     IA459       WMD Awareness  EnGeo1301    raabrw@jmu.edu\n",
       "4     IA340         Data Mining     online   teateaa@jmu.edu\n",
       "5     IA261  Hypothesis Testing   ISAT0148  waltontr@jmu.edu\n",
       "6     IA200       Nat. Security  Festival7  danzelox@jmu.edu\n",
       "7   ISAT215   Telecommunication  EnGeo2020  zulaufba@jmu.edu\n",
       "8    IA_new          new_c_name     online     new_p@jmu.edu\n",
       "9     IA150         Intro to IA  EnGeo2301     new_p@jmu.edu\n",
       "10  IA_new2          new_c_name     online    new_p2@jmu.edu\n",
       "11    IA480    Machine Learning     online     new_p@jmu.edu"
      ]
     },
     "execution_count": 45,
     "metadata": {},
     "output_type": "execute_result"
    }
   ],
   "source": [
    "df=pandas.read_sql_query('select * from gp7.course', conn)\n",
    "df[:] "
   ]
  },
  {
   "cell_type": "code",
   "execution_count": 46,
   "metadata": {},
   "outputs": [],
   "source": [
    "sql_q6_professor= \"\"\"\n",
    "                delete from gp7.professor\n",
    "                where p_email='{}'\n",
    "                \"\"\" .format ('weixx@jmu.edu')"
   ]
  },
  {
   "cell_type": "code",
   "execution_count": null,
   "metadata": {},
   "outputs": [],
   "source": [
    "cur.execute(sql_q6_professor)"
   ]
  },
  {
   "cell_type": "code",
   "execution_count": null,
   "metadata": {},
   "outputs": [],
   "source": [
    "conn.commit()"
   ]
  },
  {
   "cell_type": "code",
   "execution_count": 49,
   "metadata": {},
   "outputs": [
    {
     "data": {
      "text/html": [
       "<div>\n",
       "<style scoped>\n",
       "    .dataframe tbody tr th:only-of-type {\n",
       "        vertical-align: middle;\n",
       "    }\n",
       "\n",
       "    .dataframe tbody tr th {\n",
       "        vertical-align: top;\n",
       "    }\n",
       "\n",
       "    .dataframe thead th {\n",
       "        text-align: right;\n",
       "    }\n",
       "</style>\n",
       "<table border=\"1\" class=\"dataframe\">\n",
       "  <thead>\n",
       "    <tr style=\"text-align: right;\">\n",
       "      <th></th>\n",
       "      <th>p_email</th>\n",
       "      <th>p_name</th>\n",
       "      <th>office</th>\n",
       "    </tr>\n",
       "  </thead>\n",
       "  <tbody>\n",
       "    <tr>\n",
       "      <th>0</th>\n",
       "      <td>hendrix@jmu.edu</td>\n",
       "      <td>Noel Hendrickson</td>\n",
       "      <td>ISAT317</td>\n",
       "    </tr>\n",
       "    <tr>\n",
       "      <th>1</th>\n",
       "      <td>marrinsp@jmu.edu</td>\n",
       "      <td>Stephen Marrin</td>\n",
       "      <td>EnGeo2104</td>\n",
       "    </tr>\n",
       "    <tr>\n",
       "      <th>2</th>\n",
       "      <td>moore8ka@jmu.edu</td>\n",
       "      <td>Kathleen Moore</td>\n",
       "      <td>ISAT116</td>\n",
       "    </tr>\n",
       "    <tr>\n",
       "      <th>3</th>\n",
       "      <td>raabrw@jmu.edu</td>\n",
       "      <td>Ronald Raab</td>\n",
       "      <td>ISAT156</td>\n",
       "    </tr>\n",
       "    <tr>\n",
       "      <th>4</th>\n",
       "      <td>teateaa@jmu.edu</td>\n",
       "      <td>Anthony Teate</td>\n",
       "      <td>ISAT342</td>\n",
       "    </tr>\n",
       "    <tr>\n",
       "      <th>5</th>\n",
       "      <td>waltontr@jmu.edu</td>\n",
       "      <td>Timothy Walton</td>\n",
       "      <td>ISAT326</td>\n",
       "    </tr>\n",
       "    <tr>\n",
       "      <th>6</th>\n",
       "      <td>danzelox@jmu.edu</td>\n",
       "      <td>Orlandrew Danzell</td>\n",
       "      <td>ISAT1</td>\n",
       "    </tr>\n",
       "    <tr>\n",
       "      <th>7</th>\n",
       "      <td>zulaufba@jmu.edu</td>\n",
       "      <td>Barry Zulauf</td>\n",
       "      <td>--</td>\n",
       "    </tr>\n",
       "    <tr>\n",
       "      <th>8</th>\n",
       "      <td>new_p@jmu.edu</td>\n",
       "      <td>new_p</td>\n",
       "      <td>new_office</td>\n",
       "    </tr>\n",
       "    <tr>\n",
       "      <th>9</th>\n",
       "      <td>new_p2@jmu.edu</td>\n",
       "      <td>new_p2</td>\n",
       "      <td>new_off</td>\n",
       "    </tr>\n",
       "  </tbody>\n",
       "</table>\n",
       "</div>"
      ],
      "text/plain": [
       "            p_email             p_name      office\n",
       "0   hendrix@jmu.edu   Noel Hendrickson     ISAT317\n",
       "1  marrinsp@jmu.edu     Stephen Marrin   EnGeo2104\n",
       "2  moore8ka@jmu.edu     Kathleen Moore     ISAT116\n",
       "3    raabrw@jmu.edu        Ronald Raab     ISAT156\n",
       "4   teateaa@jmu.edu      Anthony Teate     ISAT342\n",
       "5  waltontr@jmu.edu     Timothy Walton     ISAT326\n",
       "6  danzelox@jmu.edu  Orlandrew Danzell       ISAT1\n",
       "7  zulaufba@jmu.edu       Barry Zulauf          --\n",
       "8     new_p@jmu.edu              new_p  new_office\n",
       "9    new_p2@jmu.edu             new_p2     new_off"
      ]
     },
     "execution_count": 49,
     "metadata": {},
     "output_type": "execute_result"
    }
   ],
   "source": [
    "df=pandas.read_sql_query('select * from gp7.professor', conn)\n",
    "df[:] "
   ]
  },
  {
   "cell_type": "markdown",
   "metadata": {},
   "source": [
    "## close connection"
   ]
  },
  {
   "cell_type": "code",
   "execution_count": 50,
   "metadata": {},
   "outputs": [],
   "source": [
    "cur.close()\n",
    "conn.close()"
   ]
  },
  {
   "cell_type": "code",
   "execution_count": null,
   "metadata": {},
   "outputs": [],
   "source": []
  }
 ],
 "metadata": {
  "kernelspec": {
   "display_name": "conda_python3",
   "language": "python",
   "name": "conda_python3"
  },
  "language_info": {
   "codemirror_mode": {
    "name": "ipython",
    "version": 3
   },
   "file_extension": ".py",
   "mimetype": "text/x-python",
   "name": "python",
   "nbconvert_exporter": "python",
   "pygments_lexer": "ipython3",
   "version": "3.6.10"
  }
 },
 "nbformat": 4,
 "nbformat_minor": 4
}
